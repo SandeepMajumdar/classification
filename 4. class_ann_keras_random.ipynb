{
 "cells": [
  {
   "cell_type": "code",
   "execution_count": null,
   "id": "875f92bc",
   "metadata": {},
   "outputs": [],
   "source": [
    "# Classification problem solving using 3 Dense Artificial Neural Network layers, \n",
    "#              ReLU activation function, Adam optimizer, and sparse_categorical_crossentropy loss function\n",
    "# Making an artificial dataset using random numbers and trying to classify the age groups of people\n",
    "# From Krish Naik lectures"
   ]
  },
  {
   "cell_type": "code",
   "execution_count": 2,
   "id": "04bc9c25",
   "metadata": {},
   "outputs": [],
   "source": [
    "import keras\n",
    "from keras.models import Sequential\n",
    "from keras.layers import Dense\n",
    "from keras. optimizers import Adam\n",
    "import numpy as np\n",
    "from random import randint\n",
    "from sklearn.preprocessing import MinMaxScaler"
   ]
  },
  {
   "cell_type": "code",
   "execution_count": 3,
   "id": "dac222af",
   "metadata": {},
   "outputs": [],
   "source": [
    "# Creating the training dataset randomly\n",
    "\n",
    "train_sample = []\n",
    "train_label = []\n",
    "for i in range(1000):\n",
    "    younger_ages = randint(13, 64)\n",
    "    train_sample.append(younger_ages)\n",
    "    train_label.append(0)\n",
    "    \n",
    "    older_ages = randint(65, 100)\n",
    "    train_sample.append(older_ages)\n",
    "    train_label.append(1)"
   ]
  },
  {
   "cell_type": "code",
   "execution_count": 16,
   "id": "f294f467",
   "metadata": {},
   "outputs": [
    {
     "data": {
      "text/plain": [
       "([46, 85, 48, 89, 28], [0, 1, 0, 1, 0])"
      ]
     },
     "execution_count": 16,
     "metadata": {},
     "output_type": "execute_result"
    }
   ],
   "source": [
    "train_sample[:5], train_label[:5]"
   ]
  },
  {
   "cell_type": "code",
   "execution_count": 17,
   "id": "61c5bee7",
   "metadata": {},
   "outputs": [],
   "source": [
    "# Converting into numpy arrays\n",
    "train_sample = np.array(train_sample)\n",
    "train_label = np.array(train_label)"
   ]
  },
  {
   "cell_type": "code",
   "execution_count": 19,
   "id": "286b5807",
   "metadata": {},
   "outputs": [
    {
     "data": {
      "text/plain": [
       "(array([ 46,  85,  48, ..., 100,  36,  77]), array([0, 1, 0, ..., 1, 0, 1]))"
      ]
     },
     "execution_count": 19,
     "metadata": {},
     "output_type": "execute_result"
    }
   ],
   "source": [
    "train_sample, train_label"
   ]
  },
  {
   "cell_type": "code",
   "execution_count": 23,
   "id": "d354e9dc",
   "metadata": {},
   "outputs": [],
   "source": [
    "# Scaling the data from 0 to 1\n",
    "scaler = MinMaxScaler(feature_range=(0,1))\n",
    "train_sample_scaled = scaler.fit_transform(train_sample.reshape(-1,1)) # Reshape the 1D array for keras model"
   ]
  },
  {
   "cell_type": "code",
   "execution_count": 25,
   "id": "49855dfe",
   "metadata": {},
   "outputs": [
    {
     "data": {
      "text/plain": [
       "array([[0.37931034],\n",
       "       [0.82758621],\n",
       "       [0.40229885],\n",
       "       [0.87356322],\n",
       "       [0.17241379]])"
      ]
     },
     "execution_count": 25,
     "metadata": {},
     "output_type": "execute_result"
    }
   ],
   "source": [
    "train_sample_scaled[:5]"
   ]
  },
  {
   "cell_type": "code",
   "execution_count": 26,
   "id": "44beb6fa",
   "metadata": {},
   "outputs": [
    {
     "name": "stdout",
     "output_type": "stream",
     "text": [
      "WARNING:tensorflow:From /home/sandeep/anaconda3/envs/my_env1/lib/python3.7/site-packages/tensorflow/python/ops/resource_variable_ops.py:435: colocate_with (from tensorflow.python.framework.ops) is deprecated and will be removed in a future version.\n",
      "Instructions for updating:\n",
      "Colocations handled automatically by placer.\n"
     ]
    }
   ],
   "source": [
    "model = Sequential([Dense(16,input_dim=1, activation='relu'),Dense(32, activation='relu'),Dense(2, activation='softmax')])"
   ]
  },
  {
   "cell_type": "code",
   "execution_count": 27,
   "id": "5fdf37c5",
   "metadata": {},
   "outputs": [
    {
     "name": "stdout",
     "output_type": "stream",
     "text": [
      "Model: \"sequential_1\"\n",
      "_________________________________________________________________\n",
      "Layer (type)                 Output Shape              Param #   \n",
      "=================================================================\n",
      "dense_1 (Dense)              (None, 16)                32        \n",
      "_________________________________________________________________\n",
      "dense_2 (Dense)              (None, 32)                544       \n",
      "_________________________________________________________________\n",
      "dense_3 (Dense)              (None, 2)                 66        \n",
      "=================================================================\n",
      "Total params: 642\n",
      "Trainable params: 642\n",
      "Non-trainable params: 0\n",
      "_________________________________________________________________\n"
     ]
    }
   ],
   "source": [
    "model.summary()"
   ]
  },
  {
   "cell_type": "code",
   "execution_count": 28,
   "id": "1c31fc41",
   "metadata": {},
   "outputs": [],
   "source": [
    "model.compile(Adam(lr=0.001), loss='sparse_categorical_crossentropy', metrics=['accuracy'])"
   ]
  },
  {
   "cell_type": "code",
   "execution_count": 29,
   "id": "bddfc0db",
   "metadata": {},
   "outputs": [
    {
     "name": "stdout",
     "output_type": "stream",
     "text": [
      "Epoch 1/10\n",
      "2000/2000 [==============================] - 3s 1ms/step - loss: 0.5231 - accuracy: 0.7805\n",
      "Epoch 2/10\n",
      "2000/2000 [==============================] - 1s 575us/step - loss: 0.1839 - accuracy: 0.9755\n",
      "Epoch 3/10\n",
      "2000/2000 [==============================] - 1s 570us/step - loss: 0.0942 - accuracy: 0.9880\n",
      "Epoch 4/10\n",
      "2000/2000 [==============================] - 1s 508us/step - loss: 0.0675 - accuracy: 0.9900\n",
      "Epoch 5/10\n",
      "2000/2000 [==============================] - 1s 505us/step - loss: 0.0523 - accuracy: 0.9925\n",
      "Epoch 6/10\n",
      "2000/2000 [==============================] - 1s 518us/step - loss: 0.0446 - accuracy: 0.9945\n",
      "Epoch 7/10\n",
      "2000/2000 [==============================] - 1s 514us/step - loss: 0.0395 - accuracy: 0.9935\n",
      "Epoch 8/10\n",
      "2000/2000 [==============================] - 1s 515us/step - loss: 0.0349 - accuracy: 0.9930\n",
      "Epoch 9/10\n",
      "2000/2000 [==============================] - 1s 548us/step - loss: 0.0317 - accuracy: 0.9960\n",
      "Epoch 10/10\n",
      "2000/2000 [==============================] - 1s 505us/step - loss: 0.0298 - accuracy: 0.9925\n"
     ]
    },
    {
     "data": {
      "text/plain": [
       "<keras.callbacks.callbacks.History at 0x7fba24866450>"
      ]
     },
     "execution_count": 29,
     "metadata": {},
     "output_type": "execute_result"
    }
   ],
   "source": [
    "model.fit(train_sample_scaled, train_label, batch_size=10, epochs=10)"
   ]
  },
  {
   "cell_type": "code",
   "execution_count": 31,
   "id": "de43d8d6",
   "metadata": {},
   "outputs": [],
   "source": [
    "# Creating the test sample randomly\n",
    "\n",
    "test_sample = []\n",
    "test_label = []\n",
    "for i in range(500):\n",
    "    younger_ages = randint(13, 64)\n",
    "    test_sample.append(younger_ages)\n",
    "    test_label.append(0)\n",
    "    \n",
    "    older_ages = randint(65, 100)\n",
    "    test_sample.append(older_ages)\n",
    "    test_label.append(1)"
   ]
  },
  {
   "cell_type": "code",
   "execution_count": 34,
   "id": "ea184ea9",
   "metadata": {},
   "outputs": [
    {
     "data": {
      "text/plain": [
       "([47, 80, 43, 100, 54], [0, 1, 0, 1, 0])"
      ]
     },
     "execution_count": 34,
     "metadata": {},
     "output_type": "execute_result"
    }
   ],
   "source": [
    "test_sample[:5], test_label[:5]"
   ]
  },
  {
   "cell_type": "code",
   "execution_count": 36,
   "id": "369da605",
   "metadata": {},
   "outputs": [
    {
     "data": {
      "text/plain": [
       "(array([ 47,  80,  43, 100,  54]), array([0, 1, 0, 1, 0]))"
      ]
     },
     "execution_count": 36,
     "metadata": {},
     "output_type": "execute_result"
    }
   ],
   "source": [
    "# Converting into numpy arrays\n",
    "test_sample = np.array(test_sample)\n",
    "test_label = np.array(test_label)\n",
    "test_sample[:5], test_label[:5]"
   ]
  },
  {
   "cell_type": "code",
   "execution_count": 37,
   "id": "cc6e3d83",
   "metadata": {},
   "outputs": [],
   "source": [
    "# Scaling the data from 0 to 1\n",
    "scaler = MinMaxScaler(feature_range=(0,1))\n",
    "test_sample_scaled = scaler.fit_transform(test_sample.reshape(-1,1)) # Reshape the 1D array for keras model"
   ]
  },
  {
   "cell_type": "code",
   "execution_count": 38,
   "id": "57b92997",
   "metadata": {},
   "outputs": [
    {
     "data": {
      "text/plain": [
       "array([[0.3908046 ],\n",
       "       [0.77011494],\n",
       "       [0.34482759],\n",
       "       [1.        ],\n",
       "       [0.47126437]])"
      ]
     },
     "execution_count": 38,
     "metadata": {},
     "output_type": "execute_result"
    }
   ],
   "source": [
    "test_sample_scaled[:5]"
   ]
  },
  {
   "cell_type": "code",
   "execution_count": 40,
   "id": "830d78cc",
   "metadata": {},
   "outputs": [],
   "source": [
    "test_sample_scaled_preds = model.predict_classes(test_sample_scaled, batch_size=10)"
   ]
  },
  {
   "cell_type": "code",
   "execution_count": 41,
   "id": "0ba72e5b",
   "metadata": {},
   "outputs": [
    {
     "name": "stdout",
     "output_type": "stream",
     "text": [
      "[[490  10]\n",
      " [  0 500]]\n",
      "              precision    recall  f1-score   support\n",
      "\n",
      "           0       1.00      0.98      0.99       500\n",
      "           1       0.98      1.00      0.99       500\n",
      "\n",
      "    accuracy                           0.99      1000\n",
      "   macro avg       0.99      0.99      0.99      1000\n",
      "weighted avg       0.99      0.99      0.99      1000\n",
      "\n",
      "0.99\n"
     ]
    }
   ],
   "source": [
    "from sklearn.metrics import confusion_matrix, classification_report, accuracy_score\n",
    "print(confusion_matrix(test_label, test_sample_scaled_preds))\n",
    "print(classification_report(test_label, test_sample_scaled_preds))\n",
    "print(accuracy_score(test_label, test_sample_scaled_preds))"
   ]
  },
  {
   "cell_type": "code",
   "execution_count": null,
   "id": "b943483b",
   "metadata": {},
   "outputs": [],
   "source": []
  }
 ],
 "metadata": {
  "kernelspec": {
   "display_name": "Python 3",
   "language": "python",
   "name": "python3"
  },
  "language_info": {
   "codemirror_mode": {
    "name": "ipython",
    "version": 3
   },
   "file_extension": ".py",
   "mimetype": "text/x-python",
   "name": "python",
   "nbconvert_exporter": "python",
   "pygments_lexer": "ipython3",
   "version": "3.7.13"
  }
 },
 "nbformat": 4,
 "nbformat_minor": 5
}
